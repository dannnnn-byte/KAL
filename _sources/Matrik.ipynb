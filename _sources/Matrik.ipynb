{
  "cells": [
    {
      "cell_type": "markdown",
      "metadata": {
        "id": "jC0JKRQVqsa-"
      },
      "source": [
        "# Matrik\n",
        "## Pengertian Matrik\n",
        "Matriks adalah susunan bilangan, simbol, atau ekspresi yang diatur dalam baris dan kolom.\n",
        "## Operasi Arit Matika Matrik\n",
        "### Penjumlahan\n",
        "Penjumlahan matriks adalah operasi yang dilakukan dengan menjumlahkan elemen-elemen yang bersesuaian dari dua matriks yang memiliki ukuran yang sama.  \n",
        "\n",
        "Syarat Penjumlahan Matriks  \n",
        "1. Ukuran sama – Dua matriks yang akan dijumlahkan harus memiliki jumlah baris dan kolom yang sama.  \n",
        "2. Elemen ditambahkan satu per satu – Setiap elemen di posisi yang sama pada kedua matriks dijumlahkan.  \n",
        "\n",
        "Rumus Penjumlahan Matriks  \n",
        "Misalkan ada dua matriks:  \n",
        "A =\n",
        "$\\begin{bmatrix}\n",
        "a_{11} & a_{12} \\\\\n",
        "a_{21} & a_{22}\n",
        "\\end{bmatrix}$\n",
        "\n",
        "B =\n",
        "$\\begin{bmatrix}\n",
        "b_{11} & b_{12} \\\\\n",
        "b_{21} & b_{22}\n",
        "\\end{bmatrix}$\n",
        "\n",
        "\n",
        "Maka hasil penjumlahan ( C = A + B ) adalah:  \n",
        "\n",
        "C =\n",
        "$\\begin{bmatrix}\n",
        "a_{11} + b_{11} & a_{12} + b_{12} \\\\\n",
        "a_{21} + b_{21} & a_{22} + b_{22}\n",
        "\\end{bmatrix}$\n",
        "\n",
        "\n",
        "Contoh Perhitungan\n",
        "Jika:\n",
        "$A =\n",
        "\\begin{bmatrix}\n",
        "1 & 2 \\\\\n",
        "3 & 4\n",
        "\\end{bmatrix}$\n",
        "\n",
        "B =\n",
        "$\\begin{bmatrix}\n",
        "5 & 6 \\\\\n",
        "7 & 8\n",
        "\\end{bmatrix}$\n",
        "\n",
        "\n",
        "Maka:\n",
        "\n",
        "A + B =\n",
        "$\\begin{bmatrix}\n",
        "1+5 & 2+6 \\\\\n",
        "3+7 & 4+8\n",
        "\\end{bmatrix}$\n",
        "=\n",
        "$\\begin{bmatrix}\n",
        "6 & 8 \\\\\n",
        "10 & 12\n",
        "\\end{bmatrix}$\n",
        "\n",
        "Jika ukuran matriks berbeda, maka penjumlahan tidak dapat dilakukan."
      ]
    },
    {
      "cell_type": "code",
      "execution_count": 4,
      "metadata": {
        "colab": {
          "base_uri": "https://localhost:8080/"
        },
        "id": "ypwawIPDqeAv",
        "outputId": "a26835d4-5427-43e0-bff7-6f4e329f876b"
      },
      "outputs": [
        {
          "name": "stdout",
          "output_type": "stream",
          "text": [
            "[6, 8]\n",
            "[10, 12]\n"
          ]
        }
      ],
      "source": [
        "def tambah_matriks(matriks1, matriks2):\n",
        "    if len(matriks1) != len(matriks2) or len(matriks1[0]) != len(matriks2[0]):\n",
        "        raise ValueError(\"Ukuran matriks harus sama\")\n",
        "\n",
        "    hasil = []\n",
        "    for i in range(len(matriks1)):\n",
        "        baris = []\n",
        "        for j in range(len(matriks1[0])):\n",
        "            baris.append(matriks1[i][j] + matriks2[i][j])\n",
        "        hasil.append(baris)\n",
        "\n",
        "    return hasil\n",
        "\n",
        "matriks_a = [[1, 2], [3, 4]]\n",
        "matriks_b = [[5, 6], [7, 8]]\n",
        "\n",
        "hasil = tambah_matriks(matriks_a, matriks_b)\n",
        "for baris in hasil:\n",
        "    print(baris)\n"
      ]
    },
    {
      "cell_type": "markdown",
      "metadata": {
        "id": "Pvx-TnE6qtIW"
      },
      "source": [
        "### Perkalian Matrik\n",
        "\n",
        "Perkalian matriks adalah operasi yang dilakukan dengan mengalikan elemen-elemen dari dua matriks berdasarkan aturan tertentu. Tidak seperti penjumlahan, perkalian matriks memiliki aturan khusus yang harus diikuti.  \n",
        "\n",
        "Syarat Perkalian Matriks\n",
        "1. Jumlah kolom matriks pertama harus sama dengan jumlah baris matriks kedua\n",
        "   - Jika matriks **A** berukuran $( m \\times n )$ dan matriks **B** berukuran $( n \\times p )$, maka hasil perkalian **C** akan berukuran $( m \\times p )$.\n",
        "   \n",
        "2. Menggunakan operasi dot product (perkalian dan penjumlahan elemen)\n",
        "   - Elemen dalam hasil matriks diperoleh dengan menjumlahkan hasil kali elemen-elemen dari baris matriks pertama dengan elemen-elemen dari kolom matriks kedua.\n",
        "\n",
        "---\n",
        "Rumus Perkalian Matriks\n",
        "Misalkan ada dua matriks:  \n",
        "\n",
        "A =\n",
        "$\\begin{bmatrix}\n",
        "a_{11} & a_{12} & a_{13} \\\\\n",
        "a_{21} & a_{22} & a_{23}\n",
        "\\end{bmatrix}$\n",
        "\n",
        "\n",
        "B =\n",
        "$\\begin{bmatrix}\n",
        "b_{11} & b_{12} \\\\\n",
        "b_{21} & b_{22} \\\\\n",
        "b_{31} & b_{32}\n",
        "\\end{bmatrix}$\n",
        "\n",
        "\n",
        "Maka hasil perkalian C = A × B akan berukuran 2 × 2:\n",
        "\n",
        "\n",
        "C =\n",
        "$\\begin{bmatrix}\n",
        "(a_{11} \\cdot b_{11} + a_{12} \\cdot b_{21} + a_{13} \\cdot b_{31}) & (a_{11} \\cdot b_{12} + a_{12} \\cdot b_{22} + a_{13} \\cdot b_{32}) \\\\\n",
        "(a_{21} \\cdot b_{11} + a_{22} \\cdot b_{21} + a_{23} \\cdot b_{31}) & (a_{21} \\cdot b_{12} + a_{22} \\cdot b_{22} + a_{23} \\cdot b_{32})\n",
        "\\end{bmatrix}$\n",
        "\n",
        "\n",
        "\n",
        "Contoh Perhitungan\n",
        "Misalkan:\n",
        "\n",
        "A =\n",
        "$\\begin{bmatrix}\n",
        "1 & 2 & 3 \\\\\n",
        "4 & 5 & 6\n",
        "\\end{bmatrix}$\n",
        "\n",
        "B =\n",
        "$\\begin{bmatrix}\n",
        "7 & 8 \\\\\n",
        "9 & 10 \\\\\n",
        "11 & 12\n",
        "\\end{bmatrix}$\n",
        "\n",
        "\n",
        "Maka hasilnya:\n",
        "C =\n",
        "$\\begin{bmatrix}\n",
        "(1 \\times 7 + 2 \\times 9 + 3 \\times 11) & (1 \\times 8 + 2 \\times 10 + 3 \\times 12) \\\\\n",
        "(4 \\times 7 + 5 \\times 9 + 6 \\times 11) & (4 \\times 8 + 5 \\times 10 + 6 \\times 12)\n",
        "\\end{bmatrix}$\n",
        "\n",
        "$C =\n",
        "\\begin{bmatrix}\n",
        "(7 + 18 + 33) & (8 + 20 + 36) \\\\\n",
        "(28 + 45 + 66) & (32 + 50 + 72)\n",
        "\\end{bmatrix}$\n",
        "\n",
        "\n",
        "C =\n",
        "$\\begin{bmatrix}\n",
        "58 & 64 \\\\\n",
        "139 & 154\n",
        "\\end{bmatrix}$\n",
        "\n",
        "Kesimpulan\n",
        "- Perkalian matriks tidak bisa dilakukan sembarangan, harus memenuhi syarat ukuran.  \n",
        "- Hasil perkalian matriks bisa memiliki ukuran yang berbeda dari matriks aslinya.  \n",
        "- Perkalian matriks tidak komutatif (( A × B != B × A )).  \n"
      ]
    },
    {
      "cell_type": "code",
      "execution_count": 2,
      "metadata": {
        "colab": {
          "base_uri": "https://localhost:8080/"
        },
        "id": "72rcsmTeuxLf",
        "outputId": "8bdbf184-1906-47ca-b88f-8ecdfb86026c"
      },
      "outputs": [
        {
          "name": "stdout",
          "output_type": "stream",
          "text": [
            "[30, 24, 18]\n",
            "[84, 69, 54]\n",
            "[138, 114, 90]\n"
          ]
        }
      ],
      "source": [
        "def kali_matriks(matriks1, matriks2):\n",
        "    if len(matriks1[0]) != len(matriks2):\n",
        "        raise ValueError(\"Jumlah kolom matriks pertama harus sama dengan jumlah baris matriks kedua\")\n",
        "\n",
        "    hasil = [[0 for _ in range(len(matriks2[0]))] for _ in range(len(matriks1))]\n",
        "\n",
        "    for i in range(len(matriks1)):\n",
        "        for j in range(len(matriks2[0])):\n",
        "            for k in range(len(matriks2)):\n",
        "                hasil[i][j] += matriks1[i][k] * matriks2[k][j]\n",
        "\n",
        "    return hasil\n",
        "\n",
        "matriks_a = [[1, 2, 3], [4, 5, 6], [7, 8, 9]]\n",
        "matriks_b = [[9, 8, 7], [6, 5, 4], [3, 2, 1]]\n",
        "\n",
        "hasil = kali_matriks(matriks_a, matriks_b)\n",
        "for baris in hasil:\n",
        "    print(baris)\n"
      ]
    },
    {
      "cell_type": "markdown",
      "metadata": {
        "id": "B36UYqfZvagv"
      },
      "source": [
        "## Perkalian skalar dengan matriks  \n",
        "Perkalian skalar dengan matriks adalah operasi di mana setiap elemen dalam matriks dikalikan dengan suatu bilangan skalar.  \n",
        "\n",
        "---\n",
        "\n",
        "Rumus Perkalian Skalar dengan Matriks  \n",
        "Jika terdapat matriks:  \n",
        "\n",
        "A =\n",
        "$\\begin{bmatrix}\n",
        "a_{11} & a_{12} \\\\\n",
        "a_{21} & a_{22}\n",
        "\\end{bmatrix}$\n",
        "\n",
        "dan skalar ( k ), maka hasil perkalian skalar $( k \\times A )$ adalah:  \n",
        "\n",
        "k x A =\n",
        "$\\begin{bmatrix}\n",
        "k \\times a_{11} & k \\times a_{12} \\\\\n",
        "k \\times a_{21} & k \\times a_{22}\n",
        "\\end{bmatrix}$\n",
        "\n",
        "Contoh Perhitungan\n",
        "Misalkan:  \n",
        "\n",
        "A =\n",
        "$\\begin{bmatrix}\n",
        "1 & 2 \\\\\n",
        "3 & 4\n",
        "\\end{bmatrix}$\n",
        "\n",
        "dan skalar $( k = 3 )$, maka:  \n",
        "\n",
        "3 x A =\n",
        "$\\begin{bmatrix}\n",
        "3 \\times 1 & 3 \\times 2 \\\\\n",
        "3 \\times 3 & 3 \\times 4\n",
        "\\end{bmatrix}$\n",
        "=\n",
        "$\\begin{bmatrix}\n",
        "3 & 6 \\\\\n",
        "9 & 12\n",
        "\\end{bmatrix}$\n",
        "\n",
        "Kesimpulan\n",
        "- Perkalian skalar hanya mengalikan setiap elemen dalam matriks dengan suatu bilangan.  \n",
        "- Ukuran matriks tetap sama setelah perkalian.  \n",
        "- Operasi ini bersifat distributif dan mudah dihitung.  "
      ]
    },
    {
      "cell_type": "code",
      "execution_count": 3,
      "metadata": {
        "colab": {
          "base_uri": "https://localhost:8080/"
        },
        "id": "ewvuM_9DvYbN",
        "outputId": "3d253e82-d70b-4f8d-bfe0-24a68d3d5f6c"
      },
      "outputs": [
        {
          "name": "stdout",
          "output_type": "stream",
          "text": [
            "[2, 4, 6]\n",
            "[8, 10, 12]\n",
            "[14, 16, 18]\n"
          ]
        }
      ],
      "source": [
        "def kali_skalar_matriks(skalar, matriks):\n",
        "    hasil = [[skalar * elemen for elemen in baris] for baris in matriks]\n",
        "    return hasil\n",
        "\n",
        "skalar = 2\n",
        "matriks = [[1, 2, 3], [4, 5, 6], [7, 8, 9]]\n",
        "\n",
        "hasil = kali_skalar_matriks(skalar, matriks)\n",
        "for baris in hasil:\n",
        "    print(baris)\n"
      ]
    }
  ],
  "metadata": {
    "colab": {
      "provenance": []
    },
    "kernelspec": {
      "display_name": "Python 3",
      "name": "python3"
    },
    "language_info": {
      "name": "python"
    }
  },
  "nbformat": 4,
  "nbformat_minor": 0
}
